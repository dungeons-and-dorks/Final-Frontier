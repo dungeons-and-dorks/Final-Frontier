{
 "cells": [
  {
   "cell_type": "markdown",
   "metadata": {},
   "source": [
    "# Final Frontier\n",
    "\n",
    "By Shay Altshue & Yvonne King\n",
    "\n",
    "Quick Notebook Reference\n",
    "\n",
    "1. Project Plan\n",
    "2. Acquire Data\n",
    "3. Prepare Data\n",
    "4. Exploration\n",
    "5. Modeling\n",
    "6. Conclusions\n",
    "\n",
    "## Project Plan\n",
    "\n",
    "**Acquisition, Prep, and Initial Exploration**\n",
    "> - Collect all file\n",
    "- Create a dataframe using pandas for each file\n",
    "- Clean and prepare the data to perform aggregations and merge each dataframe together\n",
    "- Remove/repair erroneous data\n",
    "- Look at shape of data\n",
    "\n",
    "**Exploration**\n",
    "- Answer the folowing qustion\n",
    "> some questions\n",
    "\n",
    "**Main Hypotheses**\n",
    "- $H_0$\n",
    "- $H_a$\n",
    "\n",
    "## Imports"
   ]
  },
  {
   "cell_type": "code",
   "execution_count": 1,
   "metadata": {},
   "outputs": [],
   "source": [
    "import warnings\n",
    "warnings.filterwarnings(\"ignore\")\n",
    "\n",
    "import pandas as pd\n",
    "\n",
    "#Data Visualization\n",
    "import seaborn as sns\n",
    "import matplotlib.pyplot as plt\n",
    "\n",
    "#Hypothesis testing\n",
    "from math import sqrt\n",
    "from scipy import stats\n",
    "\n",
    "import src.wrangle\n",
    "import src.features\n",
    "import src.preprocessing"
   ]
  },
  {
   "cell_type": "markdown",
   "metadata": {},
   "source": [
    "## Wrangle\n",
    "\n",
    "- The ```wrangle.py``` file has all the functions to call in our data and handles the following:\n",
    "    - Handled any null values by replacing them with zero\n",
    "    - Set the date/time column to be the Index\n",
    "    - Created a Unique ID for each space Mission by combining the company name with original index number\n",
    "    - Renamed Columns\n",
    "    - Created numerical codes for mission_status\n",
    "    - Created country column by extracted the information from the location column"
   ]
  },
  {
   "cell_type": "code",
   "execution_count": 2,
   "metadata": {},
   "outputs": [],
   "source": [
    "#bring in complete dataframe\n",
    "df = src.wrangle.get_space_data()"
   ]
  },
  {
   "cell_type": "code",
   "execution_count": 3,
   "metadata": {},
   "outputs": [
    {
     "data": {
      "text/html": [
       "<div>\n",
       "<style scoped>\n",
       "    .dataframe tbody tr th:only-of-type {\n",
       "        vertical-align: middle;\n",
       "    }\n",
       "\n",
       "    .dataframe tbody tr th {\n",
       "        vertical-align: top;\n",
       "    }\n",
       "\n",
       "    .dataframe thead th {\n",
       "        text-align: right;\n",
       "    }\n",
       "</style>\n",
       "<table border=\"1\" class=\"dataframe\">\n",
       "  <thead>\n",
       "    <tr style=\"text-align: right;\">\n",
       "      <th></th>\n",
       "      <th>company_name</th>\n",
       "      <th>location</th>\n",
       "      <th>rocket_type</th>\n",
       "      <th>rocket_status</th>\n",
       "      <th>mission_cost</th>\n",
       "      <th>mission_status</th>\n",
       "      <th>year</th>\n",
       "      <th>country</th>\n",
       "    </tr>\n",
       "    <tr>\n",
       "      <th>date_time</th>\n",
       "      <th></th>\n",
       "      <th></th>\n",
       "      <th></th>\n",
       "      <th></th>\n",
       "      <th></th>\n",
       "      <th></th>\n",
       "      <th></th>\n",
       "      <th></th>\n",
       "    </tr>\n",
       "  </thead>\n",
       "  <tbody>\n",
       "    <tr>\n",
       "      <th>1986-10-15 09:29:00+00:00</th>\n",
       "      <td>RVSN USSR</td>\n",
       "      <td>Site 41/1, Plesetsk Cosmodrome, Russia</td>\n",
       "      <td>Molniya-M /Block 2BL | Cosmos 1785</td>\n",
       "      <td>retired</td>\n",
       "      <td>0</td>\n",
       "      <td>Success</td>\n",
       "      <td>1986</td>\n",
       "      <td>Russia</td>\n",
       "    </tr>\n",
       "    <tr>\n",
       "      <th>2019-11-13 06:35:00+00:00</th>\n",
       "      <td>CASC</td>\n",
       "      <td>LC-16, Taiyuan Satellite Launch Center, China</td>\n",
       "      <td>Long March 6 | Ningxia-1 (x5)</td>\n",
       "      <td>active</td>\n",
       "      <td>0</td>\n",
       "      <td>Success</td>\n",
       "      <td>2019</td>\n",
       "      <td>China</td>\n",
       "    </tr>\n",
       "    <tr>\n",
       "      <th>2017-03-30 22:27:00+00:00</th>\n",
       "      <td>SpaceX</td>\n",
       "      <td>LC-39A, Kennedy Space Center, Florida, USA</td>\n",
       "      <td>Falcon 9 Block 3 | SES-10</td>\n",
       "      <td>retired</td>\n",
       "      <td>62.0</td>\n",
       "      <td>Success</td>\n",
       "      <td>2017</td>\n",
       "      <td>United States of America</td>\n",
       "    </tr>\n",
       "    <tr>\n",
       "      <th>2006-02-15 22:34:00+00:00</th>\n",
       "      <td>Sea Launch</td>\n",
       "      <td>LP Odyssey, Kiritimati Launch Area, Pacific Ocean</td>\n",
       "      <td>Zenit-3 SL | EchoStar-X</td>\n",
       "      <td>active</td>\n",
       "      <td>0</td>\n",
       "      <td>Success</td>\n",
       "      <td>2006</td>\n",
       "      <td>United States of America</td>\n",
       "    </tr>\n",
       "    <tr>\n",
       "      <th>1994-04-13 06:04:00+00:00</th>\n",
       "      <td>Lockheed</td>\n",
       "      <td>SLC-36B, Cape Canaveral AFS, Florida, USA</td>\n",
       "      <td>Atlas I | GOES-I</td>\n",
       "      <td>retired</td>\n",
       "      <td>0</td>\n",
       "      <td>Success</td>\n",
       "      <td>1994</td>\n",
       "      <td>United States of America</td>\n",
       "    </tr>\n",
       "  </tbody>\n",
       "</table>\n",
       "</div>"
      ],
      "text/plain": [
       "                          company_name  \\\n",
       "date_time                                \n",
       "1986-10-15 09:29:00+00:00    RVSN USSR   \n",
       "2019-11-13 06:35:00+00:00         CASC   \n",
       "2017-03-30 22:27:00+00:00       SpaceX   \n",
       "2006-02-15 22:34:00+00:00   Sea Launch   \n",
       "1994-04-13 06:04:00+00:00     Lockheed   \n",
       "\n",
       "                                                                    location  \\\n",
       "date_time                                                                      \n",
       "1986-10-15 09:29:00+00:00             Site 41/1, Plesetsk Cosmodrome, Russia   \n",
       "2019-11-13 06:35:00+00:00      LC-16, Taiyuan Satellite Launch Center, China   \n",
       "2017-03-30 22:27:00+00:00         LC-39A, Kennedy Space Center, Florida, USA   \n",
       "2006-02-15 22:34:00+00:00  LP Odyssey, Kiritimati Launch Area, Pacific Ocean   \n",
       "1994-04-13 06:04:00+00:00          SLC-36B, Cape Canaveral AFS, Florida, USA   \n",
       "\n",
       "                                                  rocket_type rocket_status  \\\n",
       "date_time                                                                     \n",
       "1986-10-15 09:29:00+00:00  Molniya-M /Block 2BL | Cosmos 1785       retired   \n",
       "2019-11-13 06:35:00+00:00       Long March 6 | Ningxia-1 (x5)        active   \n",
       "2017-03-30 22:27:00+00:00           Falcon 9 Block 3 | SES-10       retired   \n",
       "2006-02-15 22:34:00+00:00             Zenit-3 SL | EchoStar-X        active   \n",
       "1994-04-13 06:04:00+00:00                    Atlas I | GOES-I       retired   \n",
       "\n",
       "                          mission_cost mission_status  year  \\\n",
       "date_time                                                     \n",
       "1986-10-15 09:29:00+00:00            0        Success  1986   \n",
       "2019-11-13 06:35:00+00:00            0        Success  2019   \n",
       "2017-03-30 22:27:00+00:00         62.0        Success  2017   \n",
       "2006-02-15 22:34:00+00:00            0        Success  2006   \n",
       "1994-04-13 06:04:00+00:00            0        Success  1994   \n",
       "\n",
       "                                            country  \n",
       "date_time                                            \n",
       "1986-10-15 09:29:00+00:00                    Russia  \n",
       "2019-11-13 06:35:00+00:00                     China  \n",
       "2017-03-30 22:27:00+00:00  United States of America  \n",
       "2006-02-15 22:34:00+00:00  United States of America  \n",
       "1994-04-13 06:04:00+00:00  United States of America  "
      ]
     },
     "execution_count": 3,
     "metadata": {},
     "output_type": "execute_result"
    }
   ],
   "source": [
    "#take a peek at the data\n",
    "df.sample(5)"
   ]
  },
  {
   "cell_type": "code",
   "execution_count": 4,
   "metadata": {},
   "outputs": [
    {
     "data": {
      "text/plain": [
       "(4324, 8)"
      ]
     },
     "execution_count": 4,
     "metadata": {},
     "output_type": "execute_result"
    }
   ],
   "source": [
    "#look at the shape of the data\n",
    "df.shape"
   ]
  },
  {
   "cell_type": "code",
   "execution_count": 5,
   "metadata": {},
   "outputs": [
    {
     "name": "stdout",
     "output_type": "stream",
     "text": [
      "<class 'pandas.core.frame.DataFrame'>\n",
      "Index: 4324 entries, 2020-08-07 05:12:00+00:00 to 1957-10-04 19:28:00+00:00\n",
      "Data columns (total 8 columns):\n",
      " #   Column          Non-Null Count  Dtype \n",
      "---  ------          --------------  ----- \n",
      " 0   company_name    4324 non-null   object\n",
      " 1   location        4324 non-null   object\n",
      " 2   rocket_type     4324 non-null   object\n",
      " 3   rocket_status   4324 non-null   object\n",
      " 4   mission_cost    4324 non-null   object\n",
      " 5   mission_status  4324 non-null   object\n",
      " 6   year            4324 non-null   int64 \n",
      " 7   country         4324 non-null   object\n",
      "dtypes: int64(1), object(7)\n",
      "memory usage: 304.0+ KB\n"
     ]
    }
   ],
   "source": [
    "#look at data types and counts\n",
    "df.info()"
   ]
  },
  {
   "cell_type": "code",
   "execution_count": 6,
   "metadata": {},
   "outputs": [
    {
     "data": {
      "text/plain": [
       "company_name      0\n",
       "location          0\n",
       "rocket_type       0\n",
       "rocket_status     0\n",
       "mission_cost      0\n",
       "mission_status    0\n",
       "year              0\n",
       "country           0\n",
       "dtype: int64"
      ]
     },
     "execution_count": 6,
     "metadata": {},
     "output_type": "execute_result"
    }
   ],
   "source": [
    "#make sure there are no nulls\n",
    "df.isnull().sum()"
   ]
  },
  {
   "cell_type": "markdown",
   "metadata": {},
   "source": [
    "# Modeling"
   ]
  },
  {
   "cell_type": "markdown",
   "metadata": {},
   "source": [
    "## Preprocessing the Data"
   ]
  },
  {
   "cell_type": "code",
   "execution_count": 11,
   "metadata": {},
   "outputs": [],
   "source": [
    "# Split and encode the data\n",
    "train, test = src.preprocessing.preprocesses_data_for_modeling(df)"
   ]
  },
  {
   "cell_type": "code",
   "execution_count": 12,
   "metadata": {},
   "outputs": [
    {
     "name": "stdout",
     "output_type": "stream",
     "text": [
      "train size: (3459, 9)\n",
      "test size: (865, 9)\n"
     ]
    }
   ],
   "source": [
    "print('train size:', train.shape)\n",
    "print('test size:', test.shape)"
   ]
  },
  {
   "cell_type": "code",
   "execution_count": 13,
   "metadata": {},
   "outputs": [],
   "source": [
    "X = ['company_name', 'location', 'rocket_type']\n",
    "y = 'mission_result'"
   ]
  },
  {
   "cell_type": "code",
   "execution_count": 14,
   "metadata": {},
   "outputs": [],
   "source": [
    "X_train, y_train = train[X], train[y]\n",
    "X_test, y_test = test[X], test[y]"
   ]
  },
  {
   "cell_type": "markdown",
   "metadata": {},
   "source": [
    "## Models"
   ]
  },
  {
   "cell_type": "markdown",
   "metadata": {},
   "source": [
    "## Baseline"
   ]
  },
  {
   "cell_type": "code",
   "execution_count": 15,
   "metadata": {},
   "outputs": [
    {
     "data": {
      "text/plain": [
       "1    3879\n",
       "0     445\n",
       "Name: mission_result, dtype: int64"
      ]
     },
     "execution_count": 15,
     "metadata": {},
     "output_type": "execute_result"
    }
   ],
   "source": [
    "df.mission_result.value_counts()"
   ]
  },
  {
   "cell_type": "code",
   "execution_count": 16,
   "metadata": {},
   "outputs": [],
   "source": [
    "X_train = train[['company_name', 'location', 'rocket_type', 'mission_cost']]\n",
    "y_train = train.mission_result\n",
    "\n",
    "X_test = test[['company_name', 'location', 'rocket_type', 'mission_cost']]\n",
    "y_test = test.mission_result"
   ]
  },
  {
   "cell_type": "markdown",
   "metadata": {},
   "source": [
    "## Logistic Regression"
   ]
  },
  {
   "cell_type": "code",
   "execution_count": 17,
   "metadata": {},
   "outputs": [],
   "source": [
    "from sklearn.linear_model import LogisticRegression"
   ]
  },
  {
   "cell_type": "code",
   "execution_count": 18,
   "metadata": {},
   "outputs": [],
   "source": [
    "log = LogisticRegression(random_state=123)"
   ]
  },
  {
   "cell_type": "code",
   "execution_count": 19,
   "metadata": {},
   "outputs": [
    {
     "data": {
      "text/plain": [
       "LogisticRegression(C=1.0, class_weight=None, dual=False, fit_intercept=True,\n",
       "                   intercept_scaling=1, l1_ratio=None, max_iter=100,\n",
       "                   multi_class='auto', n_jobs=None, penalty='l2',\n",
       "                   random_state=123, solver='lbfgs', tol=0.0001, verbose=0,\n",
       "                   warm_start=False)"
      ]
     },
     "execution_count": 19,
     "metadata": {},
     "output_type": "execute_result"
    }
   ],
   "source": [
    "log.fit(X_train, y_train)"
   ]
  },
  {
   "cell_type": "code",
   "execution_count": 20,
   "metadata": {},
   "outputs": [
    {
     "data": {
      "text/plain": [
       "0.897080080948251"
      ]
     },
     "execution_count": 20,
     "metadata": {},
     "output_type": "execute_result"
    }
   ],
   "source": [
    "log.score(X_train, y_train)"
   ]
  },
  {
   "cell_type": "code",
   "execution_count": 21,
   "metadata": {},
   "outputs": [
    {
     "data": {
      "text/plain": [
       "0.8971098265895954"
      ]
     },
     "execution_count": 21,
     "metadata": {},
     "output_type": "execute_result"
    }
   ],
   "source": [
    "log.score(X_test, y_test)"
   ]
  },
  {
   "cell_type": "markdown",
   "metadata": {},
   "source": [
    "## Decision Tree"
   ]
  },
  {
   "cell_type": "code",
   "execution_count": 22,
   "metadata": {},
   "outputs": [],
   "source": [
    "from sklearn.tree import DecisionTreeClassifier"
   ]
  },
  {
   "cell_type": "code",
   "execution_count": 23,
   "metadata": {},
   "outputs": [],
   "source": [
    "tree = DecisionTreeClassifier(max_depth=3, random_state=123)"
   ]
  },
  {
   "cell_type": "code",
   "execution_count": 24,
   "metadata": {},
   "outputs": [
    {
     "data": {
      "text/plain": [
       "DecisionTreeClassifier(ccp_alpha=0.0, class_weight=None, criterion='gini',\n",
       "                       max_depth=3, max_features=None, max_leaf_nodes=None,\n",
       "                       min_impurity_decrease=0.0, min_impurity_split=None,\n",
       "                       min_samples_leaf=1, min_samples_split=2,\n",
       "                       min_weight_fraction_leaf=0.0, presort='deprecated',\n",
       "                       random_state=123, splitter='best')"
      ]
     },
     "execution_count": 24,
     "metadata": {},
     "output_type": "execute_result"
    }
   ],
   "source": [
    "tree.fit(X_train, y_train)"
   ]
  },
  {
   "cell_type": "code",
   "execution_count": 25,
   "metadata": {},
   "outputs": [
    {
     "data": {
      "text/plain": [
       "0.8993928881179531"
      ]
     },
     "execution_count": 25,
     "metadata": {},
     "output_type": "execute_result"
    }
   ],
   "source": [
    "tree.score(X_train, y_train)"
   ]
  },
  {
   "cell_type": "code",
   "execution_count": 26,
   "metadata": {},
   "outputs": [
    {
     "data": {
      "text/plain": [
       "0.8971098265895954"
      ]
     },
     "execution_count": 26,
     "metadata": {},
     "output_type": "execute_result"
    }
   ],
   "source": [
    "tree.score(X_test, y_test)"
   ]
  },
  {
   "cell_type": "markdown",
   "metadata": {},
   "source": [
    "## Random Forest"
   ]
  },
  {
   "cell_type": "code",
   "execution_count": 27,
   "metadata": {},
   "outputs": [],
   "source": [
    "from sklearn.ensemble import RandomForestClassifier"
   ]
  },
  {
   "cell_type": "code",
   "execution_count": 28,
   "metadata": {},
   "outputs": [],
   "source": [
    "forest = RandomForestClassifier(n_estimators=500, max_depth=3, random_state=123)"
   ]
  },
  {
   "cell_type": "code",
   "execution_count": 29,
   "metadata": {},
   "outputs": [
    {
     "data": {
      "text/plain": [
       "RandomForestClassifier(bootstrap=True, ccp_alpha=0.0, class_weight=None,\n",
       "                       criterion='gini', max_depth=3, max_features='auto',\n",
       "                       max_leaf_nodes=None, max_samples=None,\n",
       "                       min_impurity_decrease=0.0, min_impurity_split=None,\n",
       "                       min_samples_leaf=1, min_samples_split=2,\n",
       "                       min_weight_fraction_leaf=0.0, n_estimators=500,\n",
       "                       n_jobs=None, oob_score=False, random_state=123,\n",
       "                       verbose=0, warm_start=False)"
      ]
     },
     "execution_count": 29,
     "metadata": {},
     "output_type": "execute_result"
    }
   ],
   "source": [
    "forest.fit(X_train, y_train)"
   ]
  },
  {
   "cell_type": "code",
   "execution_count": 30,
   "metadata": {},
   "outputs": [
    {
     "data": {
      "text/plain": [
       "0.8993928881179531"
      ]
     },
     "execution_count": 30,
     "metadata": {},
     "output_type": "execute_result"
    }
   ],
   "source": [
    "forest.score(X_train, y_train)"
   ]
  },
  {
   "cell_type": "code",
   "execution_count": 31,
   "metadata": {},
   "outputs": [
    {
     "data": {
      "text/plain": [
       "0.8971098265895954"
      ]
     },
     "execution_count": 31,
     "metadata": {},
     "output_type": "execute_result"
    }
   ],
   "source": [
    "forest.score(X_test, y_test)"
   ]
  },
  {
   "cell_type": "markdown",
   "metadata": {},
   "source": [
    "## K Nearest Neighbors"
   ]
  },
  {
   "cell_type": "code",
   "execution_count": 32,
   "metadata": {},
   "outputs": [],
   "source": [
    "from sklearn.neighbors import KNeighborsClassifier"
   ]
  },
  {
   "cell_type": "code",
   "execution_count": 33,
   "metadata": {},
   "outputs": [],
   "source": [
    "knn = KNeighborsClassifier(n_neighbors=7)"
   ]
  },
  {
   "cell_type": "code",
   "execution_count": 34,
   "metadata": {},
   "outputs": [
    {
     "data": {
      "text/plain": [
       "KNeighborsClassifier(algorithm='auto', leaf_size=30, metric='minkowski',\n",
       "                     metric_params=None, n_jobs=None, n_neighbors=7, p=2,\n",
       "                     weights='uniform')"
      ]
     },
     "execution_count": 34,
     "metadata": {},
     "output_type": "execute_result"
    }
   ],
   "source": [
    "knn.fit(X_train, y_train)"
   ]
  },
  {
   "cell_type": "code",
   "execution_count": 35,
   "metadata": {},
   "outputs": [
    {
     "data": {
      "text/plain": [
       "0.9193408499566349"
      ]
     },
     "execution_count": 35,
     "metadata": {},
     "output_type": "execute_result"
    }
   ],
   "source": [
    "knn.score(X_train, y_train)"
   ]
  },
  {
   "cell_type": "code",
   "execution_count": 36,
   "metadata": {},
   "outputs": [
    {
     "data": {
      "text/plain": [
       "0.8647398843930636"
      ]
     },
     "execution_count": 36,
     "metadata": {},
     "output_type": "execute_result"
    }
   ],
   "source": [
    "knn.score(X_test, y_test)"
   ]
  }
 ],
 "metadata": {
  "kernelspec": {
   "display_name": "Python 3",
   "language": "python",
   "name": "python3"
  },
  "language_info": {
   "codemirror_mode": {
    "name": "ipython",
    "version": 3
   },
   "file_extension": ".py",
   "mimetype": "text/x-python",
   "name": "python",
   "nbconvert_exporter": "python",
   "pygments_lexer": "ipython3",
   "version": "3.7.6"
  }
 },
 "nbformat": 4,
 "nbformat_minor": 4
}
