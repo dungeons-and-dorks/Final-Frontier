{
 "cells": [
  {
   "cell_type": "markdown",
   "metadata": {},
   "source": [
    "# Final Frontier\n",
    "\n",
    "By Shay Altshue & Yvonne King\n",
    "\n",
    "Quick Notebook Reference\n",
    "\n",
    "1. Project Plan\n",
    "2. Acquire Data\n",
    "3. Prepare Data\n",
    "4. Exploration\n",
    "5. Modeling\n",
    "6. Conclusions\n",
    "\n",
    "## Project Plan\n",
    "\n",
    "**Acquisition, Prep, and Initial Exploration**\n",
    "> - Collect all file\n",
    "- Create a dataframe using pandas for each file\n",
    "- Clean and prepare the data to perform aggregations and merge each dataframe together\n",
    "- Remove/repair erroneous data\n",
    "- Look at shape of data\n",
    "\n",
    "**Exploration**\n",
    "- Answer the folowing qustion\n",
    "> some questions\n",
    "\n",
    "**Main Hypotheses**\n",
    "- $H_0$\n",
    "- $H_a$\n",
    "\n",
    "## Imports"
   ]
  },
  {
   "cell_type": "code",
   "execution_count": 2,
   "metadata": {},
   "outputs": [],
   "source": [
    "import warnings\n",
    "warnings.filterwarnings(\"ignore\")\n",
    "\n",
    "import pandas as pd\n",
    "\n",
    "#Data Visualization\n",
    "import seaborn as sns\n",
    "import matplotlib.pyplot as plt\n",
    "\n",
    "#Hypothesis testing\n",
    "from math import sqrt\n",
    "from scipy import stats\n",
    "\n"
   ]
  },
  {
   "cell_type": "code",
   "execution_count": null,
   "metadata": {},
   "outputs": [],
   "source": []
  }
 ],
 "metadata": {
  "kernelspec": {
   "display_name": "Python 3",
   "language": "python",
   "name": "python3"
  },
  "language_info": {
   "codemirror_mode": {
    "name": "ipython",
    "version": 3
   },
   "file_extension": ".py",
   "mimetype": "text/x-python",
   "name": "python",
   "nbconvert_exporter": "python",
   "pygments_lexer": "ipython3",
   "version": "3.7.4"
  }
 },
 "nbformat": 4,
 "nbformat_minor": 4
}
