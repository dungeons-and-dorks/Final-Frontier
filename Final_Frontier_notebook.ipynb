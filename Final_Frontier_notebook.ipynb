{
 "cells": [
  {
   "cell_type": "markdown",
   "metadata": {},
   "source": [
    "# Final Frontier\n",
    "\n",
    "By Shay Altshue & Yvonne King\n",
    "\n",
    "Quick Notebook Reference\n",
    "\n",
    "1. Project Plan\n",
    "2. Acquire Data\n",
    "3. Prepare Data\n",
    "4. Exploration\n",
    "5. Modeling\n",
    "6. Conclusions\n",
    "\n",
    "## Project Plan\n",
    "\n",
    "**Acquisition, Prep, and Initial Exploration**\n",
    "> - Collect all file\n",
    "> - Create a dataframe using pandas for each file\n",
    "> - Clean and prepare the data to perform aggregations and merge each dataframe together\n",
    "> - Remove/repair erroneous data\n",
    "> - Look at shape of data\n",
    "\n",
    "**Exploration**\n",
    "- Answer the folowing qustion\n",
    "> some questions\n",
    "\n",
    "**Main Hypotheses**\n",
    "- $H_0$: Space flight has not improved in safety and reliability over time, and continous to have a significant risk of failure.\n",
    "- $H_a$: As technology has improved over time, so has the safety and reliability of space flight.\n",
    "\n",
    "Our assumption before starting this project is that space flight has significantly improved in terms of the reliability of a launch since the start of space missions back in the '50s. \n",
    "Now we'll work through the data to test that hypothesis.\n",
    "\n",
    "## Imports"
   ]
  },
  {
   "cell_type": "code",
   "execution_count": 1,
   "metadata": {},
   "outputs": [],
   "source": [
    "import warnings\n",
    "warnings.filterwarnings(\"ignore\")\n",
    "\n",
    "import pandas as pd\n",
    "\n",
    "#Data Visualization\n",
    "import seaborn as sns\n",
    "import matplotlib.pyplot as plt\n",
    "\n",
    "#Hypothesis testing\n",
    "from math import sqrt\n",
    "from scipy import stats\n",
    "\n",
    "import src.wrangle\n",
    "import src.features\n",
    "import src.preprocessing"
   ]
  },
  {
   "cell_type": "markdown",
   "metadata": {},
   "source": [
    "## Wrangle\n",
    "\n",
    "- The ```wrangle.py``` file has all the functions to call in our data and handles the following:\n",
    "    - Handled any null values by replacing them with zero\n",
    "    - Set the date/time column to be the Index\n",
    "    - Created a Unique ID for each space Mission by combining the company name with original index number\n",
    "    - Renamed Columns\n",
    "    - Created numerical codes for mission_status\n",
    "    - Created country column by extracted the information from the location column"
   ]
  },
  {
   "cell_type": "code",
   "execution_count": 2,
   "metadata": {},
   "outputs": [],
   "source": [
    "#bring in complete dataframe\n",
    "df = src.wrangle.get_space_data()"
   ]
  },
  {
   "cell_type": "code",
   "execution_count": 3,
   "metadata": {},
   "outputs": [
    {
     "data": {
      "text/html": [
       "<div>\n",
       "<style scoped>\n",
       "    .dataframe tbody tr th:only-of-type {\n",
       "        vertical-align: middle;\n",
       "    }\n",
       "\n",
       "    .dataframe tbody tr th {\n",
       "        vertical-align: top;\n",
       "    }\n",
       "\n",
       "    .dataframe thead th {\n",
       "        text-align: right;\n",
       "    }\n",
       "</style>\n",
       "<table border=\"1\" class=\"dataframe\">\n",
       "  <thead>\n",
       "    <tr style=\"text-align: right;\">\n",
       "      <th></th>\n",
       "      <th>company_name</th>\n",
       "      <th>location</th>\n",
       "      <th>rocket_type</th>\n",
       "      <th>rocket_status</th>\n",
       "      <th>mission_cost</th>\n",
       "      <th>mission_status</th>\n",
       "      <th>year</th>\n",
       "      <th>month</th>\n",
       "      <th>country</th>\n",
       "    </tr>\n",
       "    <tr>\n",
       "      <th>date_time</th>\n",
       "      <th></th>\n",
       "      <th></th>\n",
       "      <th></th>\n",
       "      <th></th>\n",
       "      <th></th>\n",
       "      <th></th>\n",
       "      <th></th>\n",
       "      <th></th>\n",
       "      <th></th>\n",
       "    </tr>\n",
       "  </thead>\n",
       "  <tbody>\n",
       "    <tr>\n",
       "      <th>1996-09-04 09:01:00+00:00</th>\n",
       "      <td>VKS RF</td>\n",
       "      <td>Site 45/1, Baikonur Cosmodrome, Kazakhstan</td>\n",
       "      <td>Zenit-2 | Cosmos 2333</td>\n",
       "      <td>retired</td>\n",
       "      <td>0</td>\n",
       "      <td>Success</td>\n",
       "      <td>1996</td>\n",
       "      <td>9</td>\n",
       "      <td>Kazakhstan</td>\n",
       "    </tr>\n",
       "    <tr>\n",
       "      <th>1998-12-11 18:45:00+00:00</th>\n",
       "      <td>Boeing</td>\n",
       "      <td>SLC-17A, Cape Canaveral AFS, Florida, USA</td>\n",
       "      <td>Delta II 7425 | Mars Climate Orbiter</td>\n",
       "      <td>retired</td>\n",
       "      <td>0</td>\n",
       "      <td>Success</td>\n",
       "      <td>1998</td>\n",
       "      <td>12</td>\n",
       "      <td>United States of America</td>\n",
       "    </tr>\n",
       "    <tr>\n",
       "      <th>1969-11-24 11:04:00+00:00</th>\n",
       "      <td>RVSN USSR</td>\n",
       "      <td>Site 133/3, Plesetsk Cosmodrome, Russia</td>\n",
       "      <td>Cosmos-2I (63SM) | Cosmos 311</td>\n",
       "      <td>retired</td>\n",
       "      <td>0</td>\n",
       "      <td>Success</td>\n",
       "      <td>1969</td>\n",
       "      <td>11</td>\n",
       "      <td>Russia</td>\n",
       "    </tr>\n",
       "    <tr>\n",
       "      <th>1978-01-17 03:26:00+00:00</th>\n",
       "      <td>RVSN USSR</td>\n",
       "      <td>Site 132/1, Plesetsk Cosmodrome, Russia</td>\n",
       "      <td>Cosmos-3M (11K65M) | Cosmos 985</td>\n",
       "      <td>retired</td>\n",
       "      <td>0</td>\n",
       "      <td>Success</td>\n",
       "      <td>1978</td>\n",
       "      <td>1</td>\n",
       "      <td>Russia</td>\n",
       "    </tr>\n",
       "    <tr>\n",
       "      <th>2009-05-14 13:12:00+00:00</th>\n",
       "      <td>Arianespace</td>\n",
       "      <td>ELA-3, Guiana Space Centre, French Guiana, France</td>\n",
       "      <td>Ariane 5 ECA | Herschel Space Observatory &amp; Pl...</td>\n",
       "      <td>active</td>\n",
       "      <td>200.0</td>\n",
       "      <td>Success</td>\n",
       "      <td>2009</td>\n",
       "      <td>5</td>\n",
       "      <td>France</td>\n",
       "    </tr>\n",
       "  </tbody>\n",
       "</table>\n",
       "</div>"
      ],
      "text/plain": [
       "                          company_name  \\\n",
       "date_time                                \n",
       "1996-09-04 09:01:00+00:00       VKS RF   \n",
       "1998-12-11 18:45:00+00:00       Boeing   \n",
       "1969-11-24 11:04:00+00:00    RVSN USSR   \n",
       "1978-01-17 03:26:00+00:00    RVSN USSR   \n",
       "2009-05-14 13:12:00+00:00  Arianespace   \n",
       "\n",
       "                                                                    location  \\\n",
       "date_time                                                                      \n",
       "1996-09-04 09:01:00+00:00         Site 45/1, Baikonur Cosmodrome, Kazakhstan   \n",
       "1998-12-11 18:45:00+00:00          SLC-17A, Cape Canaveral AFS, Florida, USA   \n",
       "1969-11-24 11:04:00+00:00            Site 133/3, Plesetsk Cosmodrome, Russia   \n",
       "1978-01-17 03:26:00+00:00            Site 132/1, Plesetsk Cosmodrome, Russia   \n",
       "2009-05-14 13:12:00+00:00  ELA-3, Guiana Space Centre, French Guiana, France   \n",
       "\n",
       "                                                                 rocket_type  \\\n",
       "date_time                                                                      \n",
       "1996-09-04 09:01:00+00:00                              Zenit-2 | Cosmos 2333   \n",
       "1998-12-11 18:45:00+00:00               Delta II 7425 | Mars Climate Orbiter   \n",
       "1969-11-24 11:04:00+00:00                      Cosmos-2I (63SM) | Cosmos 311   \n",
       "1978-01-17 03:26:00+00:00                    Cosmos-3M (11K65M) | Cosmos 985   \n",
       "2009-05-14 13:12:00+00:00  Ariane 5 ECA | Herschel Space Observatory & Pl...   \n",
       "\n",
       "                          rocket_status mission_cost mission_status  year  \\\n",
       "date_time                                                                   \n",
       "1996-09-04 09:01:00+00:00       retired            0        Success  1996   \n",
       "1998-12-11 18:45:00+00:00       retired            0        Success  1998   \n",
       "1969-11-24 11:04:00+00:00       retired            0        Success  1969   \n",
       "1978-01-17 03:26:00+00:00       retired            0        Success  1978   \n",
       "2009-05-14 13:12:00+00:00        active        200.0        Success  2009   \n",
       "\n",
       "                           month                   country  \n",
       "date_time                                                   \n",
       "1996-09-04 09:01:00+00:00      9                Kazakhstan  \n",
       "1998-12-11 18:45:00+00:00     12  United States of America  \n",
       "1969-11-24 11:04:00+00:00     11                    Russia  \n",
       "1978-01-17 03:26:00+00:00      1                    Russia  \n",
       "2009-05-14 13:12:00+00:00      5                    France  "
      ]
     },
     "execution_count": 3,
     "metadata": {},
     "output_type": "execute_result"
    }
   ],
   "source": [
    "#take a peek at the data\n",
    "df.sample(5)"
   ]
  },
  {
   "cell_type": "code",
   "execution_count": 4,
   "metadata": {},
   "outputs": [
    {
     "name": "stdout",
     "output_type": "stream",
     "text": [
      "Number of rows: 4324, Number of columns: 9\n"
     ]
    }
   ],
   "source": [
    "#look at the shape of the data\n",
    "print(f'Number of rows: {df.shape[0]}, Number of columns: {df.shape[1]}')"
   ]
  },
  {
   "cell_type": "code",
   "execution_count": 5,
   "metadata": {},
   "outputs": [
    {
     "name": "stdout",
     "output_type": "stream",
     "text": [
      "<class 'pandas.core.frame.DataFrame'>\n",
      "Index: 4324 entries, 2020-08-07 05:12:00+00:00 to 1957-10-04 19:28:00+00:00\n",
      "Data columns (total 9 columns):\n",
      " #   Column          Non-Null Count  Dtype \n",
      "---  ------          --------------  ----- \n",
      " 0   company_name    4324 non-null   object\n",
      " 1   location        4324 non-null   object\n",
      " 2   rocket_type     4324 non-null   object\n",
      " 3   rocket_status   4324 non-null   object\n",
      " 4   mission_cost    4324 non-null   object\n",
      " 5   mission_status  4324 non-null   object\n",
      " 6   year            4324 non-null   int64 \n",
      " 7   month           4324 non-null   int64 \n",
      " 8   country         4324 non-null   object\n",
      "dtypes: int64(2), object(7)\n",
      "memory usage: 337.8+ KB\n"
     ]
    }
   ],
   "source": [
    "#look at data types and counts\n",
    "df.info()"
   ]
  },
  {
   "cell_type": "code",
   "execution_count": 6,
   "metadata": {},
   "outputs": [
    {
     "data": {
      "text/plain": [
       "company_name      0\n",
       "location          0\n",
       "rocket_type       0\n",
       "rocket_status     0\n",
       "mission_cost      0\n",
       "mission_status    0\n",
       "year              0\n",
       "month             0\n",
       "country           0\n",
       "dtype: int64"
      ]
     },
     "execution_count": 6,
     "metadata": {},
     "output_type": "execute_result"
    }
   ],
   "source": [
    "#make sure there are no nulls\n",
    "df.isnull().sum()"
   ]
  },
  {
   "cell_type": "markdown",
   "metadata": {},
   "source": [
    "# Add Features"
   ]
  },
  {
   "cell_type": "markdown",
   "metadata": {},
   "source": [
    "Our target variable, whether or not a mission succeeds or fails, should be the mission_status field. However..."
   ]
  },
  {
   "cell_type": "code",
   "execution_count": 7,
   "metadata": {},
   "outputs": [
    {
     "data": {
      "text/plain": [
       "Success              3879\n",
       "Failure               339\n",
       "Partial Failure       102\n",
       "Prelaunch Failure       4\n",
       "Name: mission_status, dtype: int64"
      ]
     },
     "execution_count": 7,
     "metadata": {},
     "output_type": "execute_result"
    }
   ],
   "source": [
    "df.mission_status.value_counts()"
   ]
  },
  {
   "cell_type": "markdown",
   "metadata": {},
   "source": [
    "We want a binary outcome (success vs failure), so we'll create a new feature that aggregates the failures into a single result"
   ]
  },
  {
   "cell_type": "code",
   "execution_count": 8,
   "metadata": {},
   "outputs": [],
   "source": [
    "df = src.features.mission_result(df)"
   ]
  },
  {
   "cell_type": "code",
   "execution_count": 9,
   "metadata": {},
   "outputs": [
    {
     "data": {
      "text/plain": [
       "1    3879\n",
       "0     445\n",
       "Name: mission_result, dtype: int64"
      ]
     },
     "execution_count": 9,
     "metadata": {},
     "output_type": "execute_result"
    }
   ],
   "source": [
    "df.mission_result.value_counts()"
   ]
  },
  {
   "cell_type": "markdown",
   "metadata": {},
   "source": [
    "> Note: This new feature is already encoded (1: success, 0: failure) "
   ]
  },
  {
   "cell_type": "code",
   "execution_count": 10,
   "metadata": {},
   "outputs": [
    {
     "data": {
      "text/plain": [
       "0"
      ]
     },
     "execution_count": 10,
     "metadata": {},
     "output_type": "execute_result"
    }
   ],
   "source": [
    "# Verify there's no missing values in the new feature\n",
    "df.mission_result.isna().sum()"
   ]
  },
  {
   "cell_type": "markdown",
   "metadata": {},
   "source": [
    "# Modeling"
   ]
  },
  {
   "cell_type": "markdown",
   "metadata": {},
   "source": [
    "## Preprocessing the Data"
   ]
  },
  {
   "cell_type": "code",
   "execution_count": 11,
   "metadata": {},
   "outputs": [],
   "source": [
    "# Split and encode the data\n",
    "train, test = src.preprocessing.preprocesses_data_for_modeling(df)"
   ]
  },
  {
   "cell_type": "code",
   "execution_count": 12,
   "metadata": {},
   "outputs": [
    {
     "name": "stdout",
     "output_type": "stream",
     "text": [
      "train size: (3459, 10)\n",
      "test size: (865, 10)\n"
     ]
    }
   ],
   "source": [
    "print('train size:', train.shape)\n",
    "print('test size:', test.shape)"
   ]
  },
  {
   "cell_type": "code",
   "execution_count": 13,
   "metadata": {},
   "outputs": [],
   "source": [
    "X = ['company_name', 'location', 'rocket_type']\n",
    "y = 'mission_result'"
   ]
  },
  {
   "cell_type": "code",
   "execution_count": 14,
   "metadata": {},
   "outputs": [],
   "source": [
    "X_train, y_train = train[X], train[y]\n",
    "X_test, y_test = test[X], test[y]"
   ]
  },
  {
   "cell_type": "markdown",
   "metadata": {},
   "source": [
    "## Models"
   ]
  },
  {
   "cell_type": "markdown",
   "metadata": {},
   "source": [
    "## Logistic Regression"
   ]
  },
  {
   "cell_type": "code",
   "execution_count": 15,
   "metadata": {},
   "outputs": [],
   "source": [
    "from sklearn.linear_model import LogisticRegression\n",
    "\n",
    "log = LogisticRegression(random_state=123)\n",
    "log.fit(X_train, y_train)\n",
    "train_score = log.score(X_train, y_train)\n",
    "test_score = log.score(X_test, y_test)"
   ]
  },
  {
   "cell_type": "code",
   "execution_count": 16,
   "metadata": {},
   "outputs": [
    {
     "name": "stdout",
     "output_type": "stream",
     "text": [
      "train accuracy: 0.90 \n",
      "test accuracy:  0.90\n"
     ]
    }
   ],
   "source": [
    "print('train accuracy: {:.2f} \\ntest accuracy:  {:.2f}'.format(train_score, test_score))"
   ]
  },
  {
   "cell_type": "markdown",
   "metadata": {},
   "source": [
    "## Decision Tree"
   ]
  },
  {
   "cell_type": "code",
   "execution_count": 33,
   "metadata": {},
   "outputs": [
    {
     "data": {
      "text/plain": [
       "DecisionTreeClassifier(max_depth=3, random_state=123)"
      ]
     },
     "execution_count": 33,
     "metadata": {},
     "output_type": "execute_result"
    }
   ],
   "source": [
    "from sklearn.tree import DecisionTreeClassifier\n",
    "\n",
    "tree = DecisionTreeClassifier(max_depth=3, random_state=123)\n",
    "tree.fit(X_train, y_train)"
   ]
  },
  {
   "cell_type": "code",
   "execution_count": 34,
   "metadata": {},
   "outputs": [],
   "source": [
    "train_score = tree.score(X_train, y_train)\n",
    "test_score = tree.score(X_test, y_test)"
   ]
  },
  {
   "cell_type": "code",
   "execution_count": 35,
   "metadata": {},
   "outputs": [
    {
     "name": "stdout",
     "output_type": "stream",
     "text": [
      "train accuracy: 0.90 \n",
      "test accuracy:  0.90\n"
     ]
    }
   ],
   "source": [
    "print('train accuracy: {:.2f} \\ntest accuracy:  {:.2f}'.format(train_score, test_score))"
   ]
  },
  {
   "cell_type": "markdown",
   "metadata": {},
   "source": [
    "## Random Forest"
   ]
  },
  {
   "cell_type": "code",
   "execution_count": 36,
   "metadata": {},
   "outputs": [
    {
     "data": {
      "text/plain": [
       "RandomForestClassifier(max_depth=3, n_estimators=500, random_state=123)"
      ]
     },
     "execution_count": 36,
     "metadata": {},
     "output_type": "execute_result"
    }
   ],
   "source": [
    "from sklearn.ensemble import RandomForestClassifier\n",
    "\n",
    "forest = RandomForestClassifier(n_estimators=500, max_depth=3, random_state=123)\n",
    "forest.fit(X_train, y_train)"
   ]
  },
  {
   "cell_type": "code",
   "execution_count": 37,
   "metadata": {},
   "outputs": [],
   "source": [
    "train_score = forest.score(X_train, y_train)\n",
    "test_score = forest.score(X_test, y_test)"
   ]
  },
  {
   "cell_type": "code",
   "execution_count": 38,
   "metadata": {},
   "outputs": [
    {
     "name": "stdout",
     "output_type": "stream",
     "text": [
      "train accuracy: 0.90 \n",
      "test accuracy:  0.90\n"
     ]
    }
   ],
   "source": [
    "print('train accuracy: {:.2f} \\ntest accuracy:  {:.2f}'.format(train_score, test_score))"
   ]
  },
  {
   "cell_type": "markdown",
   "metadata": {},
   "source": [
    "## K Nearest Neighbors"
   ]
  },
  {
   "cell_type": "code",
   "execution_count": 41,
   "metadata": {},
   "outputs": [
    {
     "data": {
      "text/plain": [
       "KNeighborsClassifier(n_neighbors=7)"
      ]
     },
     "execution_count": 41,
     "metadata": {},
     "output_type": "execute_result"
    }
   ],
   "source": [
    "from sklearn.neighbors import KNeighborsClassifier\n",
    "\n",
    "knn = KNeighborsClassifier(n_neighbors=7)\n",
    "knn.fit(X_train, y_train)"
   ]
  },
  {
   "cell_type": "code",
   "execution_count": 44,
   "metadata": {},
   "outputs": [],
   "source": [
    "train_score = knn.score(X_train, y_train)\n",
    "test_score = knn.score(X_test, y_test)"
   ]
  },
  {
   "cell_type": "code",
   "execution_count": 45,
   "metadata": {},
   "outputs": [
    {
     "name": "stdout",
     "output_type": "stream",
     "text": [
      "train accuracy: 0.92 \n",
      "test accuracy:  0.83\n"
     ]
    }
   ],
   "source": [
    "print('train accuracy: {:.2f} \\ntest accuracy:  {:.2f}'.format(train_score, test_score))"
   ]
  }
 ],
 "metadata": {
  "kernelspec": {
   "display_name": "Python 3",
   "language": "python",
   "name": "python3"
  },
  "language_info": {
   "codemirror_mode": {
    "name": "ipython",
    "version": 3
   },
   "file_extension": ".py",
   "mimetype": "text/x-python",
   "name": "python",
   "nbconvert_exporter": "python",
   "pygments_lexer": "ipython3",
   "version": "3.7.6"
  }
 },
 "nbformat": 4,
 "nbformat_minor": 4
}
